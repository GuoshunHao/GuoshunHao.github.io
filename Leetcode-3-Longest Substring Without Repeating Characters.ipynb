{
 "cells": [
  {
   "cell_type": "markdown",
   "metadata": {},
   "source": [
    "# 题目3. Longest Substring Without Repeating Characters"
   ]
  },
  {
   "cell_type": "raw",
   "metadata": {},
   "source": [
    "给定一个字符串，请找出最长的不包含重复字符的子串。\n",
    "请注意子串和子序列的区别：\n",
    "\n",
    "子串一定是连续的一段\n",
    "子序列不一定是连续的一段，但下标要求是递增的\n",
    "样例\n",
    "给定 \"abcabcbb\"，答案是\"abc\"，长度是3.\n",
    "给定 \"bbbbb\"，答案是\"b\"，长度是1.\n",
    "给定 \"pwwkew\"，答案是\"wke\"，长度是3.\n"
   ]
  },
  {
   "cell_type": "markdown",
   "metadata": {},
   "source": [
    "# 解题思路"
   ]
  },
  {
   "cell_type": "markdown",
   "metadata": {},
   "source": [
    "## 这道题开始有点难度了\n",
    "\n",
    "\n",
    "- 初步思路：人们第一意识可能就会想到暴力枚举法，列举出所有可能的substring，然后找到里面没有重复字母的substring，但立刻就能感觉到，这样的算法太“傻”\n",
    "- 改进思路：两个指针，一个记录子串的尾部，一个记录子串的头部。子串头部指的位置的字符，去子串里寻找有没有重复字母，如果没有，就继续向前一个字母；如果找到了相同字母，尾部指针跳到相同字母的下一个字母，头部指针继续向下寻找。这样，找到最长的子串。\n",
    "    - 复杂度：因为在字符串里查找一个字符的复杂度是常数1，所以这个算法的复杂度是n的倍数，两个指针分别遍历一次，即$O(n)$"
   ]
  },
  {
   "cell_type": "code",
   "execution_count": 15,
   "metadata": {},
   "outputs": [
    {
     "name": "stdout",
     "output_type": "stream",
     "text": [
      "maxlength is: 2, sub string is: bc\n"
     ]
    }
   ],
   "source": [
    "#str类型\n",
    "s = 'bcbbbb'\n",
    "l = len(s)\n",
    "\n",
    "p1 = 0 #尾部指针索引\n",
    "p2 = 1 #头部指针索引\n",
    "\n",
    "maxlength = 0\n",
    "substring = []\n",
    "\n",
    "while p2<l:\n",
    "    #记录现在的子串\n",
    "    subs = s[p1:p2]\n",
    "    if s[p2] in subs:\n",
    "        newp1 = p1+subs.index(s[p2])\n",
    "        p1 = newp1+1\n",
    "        #print('head is at %d, tail is at %d'%(p2,p1))\n",
    "    if maxlength < (p2-p1+1):\n",
    "        maxlength = (p2-p1+1)\n",
    "        substring = s[p1:(p2+1)]\n",
    "    \n",
    "    p2+=1\n",
    "\n",
    "print(\"maxlength is: %d, sub string is: %s\"%(maxlength,substring))"
   ]
  },
  {
   "cell_type": "code",
   "execution_count": null,
   "metadata": {},
   "outputs": [],
   "source": []
  },
  {
   "cell_type": "code",
   "execution_count": null,
   "metadata": {},
   "outputs": [],
   "source": []
  },
  {
   "cell_type": "code",
   "execution_count": null,
   "metadata": {},
   "outputs": [],
   "source": []
  },
  {
   "cell_type": "code",
   "execution_count": null,
   "metadata": {},
   "outputs": [],
   "source": []
  }
 ],
 "metadata": {
  "kernelspec": {
   "display_name": "Python 3",
   "language": "python",
   "name": "python3"
  },
  "language_info": {
   "codemirror_mode": {
    "name": "ipython",
    "version": 3
   },
   "file_extension": ".py",
   "mimetype": "text/x-python",
   "name": "python",
   "nbconvert_exporter": "python",
   "pygments_lexer": "ipython3",
   "version": "3.7.4"
  }
 },
 "nbformat": 4,
 "nbformat_minor": 2
}
