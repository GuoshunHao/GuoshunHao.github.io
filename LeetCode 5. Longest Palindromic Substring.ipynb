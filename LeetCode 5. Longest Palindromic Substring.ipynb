{
 "cells": [
  {
   "cell_type": "markdown",
   "metadata": {},
   "source": [
    "# 题目描述\n",
    "给定一个字符串，返回它的最长回文子串。如果存在多个答案，返回任意一个即可。字符串长度 ≤≤ 1000。\n",
    "\n",
    "样例1\n",
    "输入：\"babad\"\n",
    "输出：\"bab\"\n",
    "注意：\"aba\" 也是一个合法的答案.\n",
    "样例2\n",
    "输入：\"cbbd\"\n",
    "输出：\"bb\"\n",
    "算法"
   ]
  },
  {
   "cell_type": "markdown",
   "metadata": {},
   "source": [
    "# 算法思路\n",
    "\n",
    "- 这个题目没有复杂度要求，所以它的难度并不高，暴力枚举就可以\n",
    "- 但关键是，这里要处理两种类型的回文字符串，包括 aba 也包括 abba\n",
    "- 所以，这里借鉴leetcode book里的思路，虽然看起来复杂，但代码世界上还是比较巧妙的\n",
    "    - 注意，源码的第15行可能会出现错误，因为没有强制判断max_left和max_right都是整数，所以这里加入了强制的转换\n",
    "    - 不过，代码运行过程中，实际上在第4行已经表明了max_left和max_right都是整数，后面是能够保证它们都是整数，但运行过程中还是出现错误提示。所以，还是要加上强制的int()类型转换函数\n",
    "    "
   ]
  },
  {
   "cell_type": "code",
   "execution_count": 34,
   "metadata": {},
   "outputs": [
    {
     "name": "stdout",
     "output_type": "stream",
     "text": [
      "dabcdefgfedcbad\n"
     ]
    }
   ],
   "source": [
    "class Solution(object):\n",
    "    def longestPalindrome(self, s):\n",
    "        #example in leetcode book\n",
    "        max_left, max_right = 0, 0\n",
    "        ls = len(s)\n",
    "        for i in range(ls):\n",
    "            len1 = self.expandAroundCenter(s, i, i)\n",
    "            len2 = self.expandAroundCenter(s, i, i + 1)\n",
    "            max_len = max(len1, len2)\n",
    "            \n",
    "            if (max_len > max_right - max_left):\n",
    "                max_left = i - (max_len - 1) / 2\n",
    "                max_right = i + max_len / 2\n",
    "                #print(\"center is:%d, Max length is:%d,【%d:%d】!\"%(i,max_len,max_left,max_right+1))        \n",
    "        return s[int(max_left) : int(max_right)+1]\n",
    "    \n",
    "    def expandAroundCenter(self, s, left, right):\n",
    "        ls = len(s)\n",
    "        while (left >= 0 and right < ls and s[left] == s[right]):\n",
    "            left -= 1\n",
    "            right += 1\n",
    "        return right-left-1\n",
    "    \n",
    "sol = Solution()\n",
    "stri = 'dabcdefgfedcbadda'\n",
    "subs = sol.longestPalindrome(stri)\n",
    "print(subs)"
   ]
  },
  {
   "cell_type": "code",
   "execution_count": null,
   "metadata": {},
   "outputs": [],
   "source": []
  },
  {
   "cell_type": "code",
   "execution_count": null,
   "metadata": {},
   "outputs": [],
   "source": []
  },
  {
   "cell_type": "code",
   "execution_count": null,
   "metadata": {},
   "outputs": [],
   "source": []
  },
  {
   "cell_type": "code",
   "execution_count": null,
   "metadata": {},
   "outputs": [],
   "source": []
  }
 ],
 "metadata": {
  "kernelspec": {
   "display_name": "Python 3",
   "language": "python",
   "name": "python3"
  },
  "language_info": {
   "codemirror_mode": {
    "name": "ipython",
    "version": 3
   },
   "file_extension": ".py",
   "mimetype": "text/x-python",
   "name": "python",
   "nbconvert_exporter": "python",
   "pygments_lexer": "ipython3",
   "version": "3.7.4"
  }
 },
 "nbformat": 4,
 "nbformat_minor": 2
}
