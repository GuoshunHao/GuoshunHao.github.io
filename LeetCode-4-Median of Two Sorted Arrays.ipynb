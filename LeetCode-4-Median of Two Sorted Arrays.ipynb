{
 "cells": [
  {
   "cell_type": "markdown",
   "metadata": {},
   "source": [
    "# 题目描述\n"
   ]
  },
  {
   "cell_type": "markdown",
   "metadata": {},
   "source": [
    "给定两个有序数组 nums1 和 nums2，长度分别为 m,n。请找出它们的中位数，要求时间复杂度在 $O(log(n+m))$ 以内。\n",
    "\n",
    "- 样例1\n",
    "\n",
    "nums1 = [1,3]\n",
    "nums2 = [2]\n",
    "中位数是 2.0\n",
    "\n",
    "\n",
    "- 样例2\n",
    "nums1 = [1, 2]\n",
    "nums2 = [3, 4]\n",
    "中位数是 (2 + 3) / 2 = 2.5"
   ]
  },
  {
   "cell_type": "markdown",
   "metadata": {},
   "source": [
    "# 中位数的概念\n"
   ]
  },
  {
   "cell_type": "markdown",
   "metadata": {},
   "source": [
    "- 中位数，又称中点数，中值。中位数是按顺序排列的一组数据中居于中间位置的数，即在这组数据中，有一半的数据比他大，有一半的数据比他小，这里用来表示中位数。\n",
    "\n",
    "对于一组有限个数的数据来说，它们的中位数是这样的一种数：这群数据里的一半的数据比它大，而另外一半数据比它小。 计算有限个数的数据的中位数的方法是：把所有的同类数据按照大小的顺序排列。如果数据的个数是奇数，则中间那个数据就是这群数据的中位数；如果数据的个数是偶数，则中间那2个数据的算术平均值就是这群数据的中位数。\n",
    "中位数：也就是选取中间的数，是一种衡量集中趋势的方法。"
   ]
  },
  {
   "cell_type": "markdown",
   "metadata": {},
   "source": [
    "# 算法思路"
   ]
  },
  {
   "cell_type": "markdown",
   "metadata": {},
   "source": [
    "## 思路1\n",
    "\n",
    "- 把两个数组按照大小顺序合并起来，然后求中值，很明显，不能满足题目的复杂度要求\n"
   ]
  },
  {
   "cell_type": "markdown",
   "metadata": {},
   "source": [
    "# 可行的思路1\n",
    "\n",
    "- 网络上大多数算法都是这个算法，虽然非常难懂:-)，后面我们给出一个自己的更直观的算法，只不过算法复杂度是超出题目要求的复杂度的。\n",
    "- 令 $k = (m+n)/2$，就是计算两个数组中第k小的数\n",
    "- 在nums1和nums2中，分别找第k/2个数，看看它们哪个更小，如果nums1中的数更小，那么第k小的数必然不在这k/2个nums1中，所以把这几个数删掉，然后，问题就转变为，找第（k-k/2）小的数。"
   ]
  },
  {
   "cell_type": "code",
   "execution_count": 13,
   "metadata": {},
   "outputs": [
    {
     "name": "stdout",
     "output_type": "stream",
     "text": [
      "total num:16, medianum index:8\n",
      "7.5\n"
     ]
    }
   ],
   "source": [
    "nums1=[3,5,7,8,9,10,12]\n",
    "nums2=[2,3,5,6,7,8,11,12,19]\n",
    "\n",
    "class Solution:\n",
    "    def findMedianSortedArrays(self, nums1, nums2):\n",
    "        \n",
    "        m = len(nums1)\n",
    "        n = len(nums2)\n",
    "        k = (m+n)//2\n",
    "        if (m+n)%2!=0:\n",
    "            k += 1 \n",
    "        print(\"total num:%d, medianum index:%d\"%(m+n, k))\n",
    "        \n",
    "        while k>1:\n",
    "            if(nums1[k//2-1] <= nums2[k//2-1]):\n",
    "                nums1 = nums1[k//2:]\n",
    "            else:\n",
    "                nums2 = nums2[k//2:]\n",
    "            \n",
    "            k = k-k//2\n",
    "            \n",
    "        if (m+n)%2!=0:\n",
    "            return min(nums1[0],nums2[0])\n",
    "        else:\n",
    "            return (nums1[0]+nums2[0])/2\n",
    "\n",
    "s = Solution()\n",
    "print(s.findMedianSortedArrays(nums1,nums2))"
   ]
  },
  {
   "cell_type": "code",
   "execution_count": null,
   "metadata": {},
   "outputs": [],
   "source": []
  },
  {
   "cell_type": "markdown",
   "metadata": {},
   "source": [
    "# 可行算法2\n",
    "\n",
    "- 更直观的算法，还是从两个数组中，分别去掉最小的数，\n",
    "- 如果 m+n 是偶数，去掉 $(m+n)//2-1$ 个数，然后取后面的两个最小的数，取平均值\n",
    "- 如果m+n是奇数，去掉 $(m+n)//2$ 个数，之后的最小的数，就是需要的值\n",
    "- 很明显，这个算法更直观，只是它的复杂度是不满足要求的，因为它的复杂度是$O(m+n)$."
   ]
  },
  {
   "cell_type": "code",
   "execution_count": 16,
   "metadata": {},
   "outputs": [
    {
     "name": "stdout",
     "output_type": "stream",
     "text": [
      "total num:15, delete 7 numbers\n",
      "7\n"
     ]
    }
   ],
   "source": [
    "nums1=[3,5,7,8,9,10,12]\n",
    "nums2=[2,3,5,6,7,8,11,19]\n",
    "\n",
    "class Solution:\n",
    "    def findMedianSortedArrays(self, nums1, nums2):\n",
    "        m = len(nums1)\n",
    "        n = len(nums2)\n",
    "        k = (m+n)//2\n",
    "        if (m+n)%2==0:\n",
    "            k -= 1 \n",
    "        \n",
    "        print(\"total num:%d, delete %d numbers\"%(m+n, k))\n",
    "        \n",
    "        for i in range(k): # delete k number from two lists\n",
    "            if (nums1[0] <= nums2[0]):\n",
    "                nums1 = nums1[1:]\n",
    "            else:\n",
    "                nums2 = nums2[1:]\n",
    "\n",
    "        if (m+n)%2!=0:\n",
    "            return min(nums1[0],nums2[0])\n",
    "        else:\n",
    "            return (nums1[0]+nums2[0])/2\n",
    "\n",
    "s = Solution()\n",
    "print(s.findMedianSortedArrays(nums1,nums2))"
   ]
  },
  {
   "cell_type": "code",
   "execution_count": null,
   "metadata": {},
   "outputs": [],
   "source": []
  },
  {
   "cell_type": "code",
   "execution_count": null,
   "metadata": {},
   "outputs": [],
   "source": []
  },
  {
   "cell_type": "code",
   "execution_count": null,
   "metadata": {},
   "outputs": [],
   "source": []
  }
 ],
 "metadata": {
  "kernelspec": {
   "display_name": "Python 3",
   "language": "python",
   "name": "python3"
  },
  "language_info": {
   "codemirror_mode": {
    "name": "ipython",
    "version": 3
   },
   "file_extension": ".py",
   "mimetype": "text/x-python",
   "name": "python",
   "nbconvert_exporter": "python",
   "pygments_lexer": "ipython3",
   "version": "3.7.4"
  }
 },
 "nbformat": 4,
 "nbformat_minor": 2
}
