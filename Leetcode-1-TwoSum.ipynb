{
 "cells": [
  {
   "cell_type": "markdown",
   "metadata": {},
   "source": [
    "# 题目 Two Sum"
   ]
  },
  {
   "cell_type": "raw",
   "metadata": {},
   "source": [
    "给定一个整型数组，要求返回两个数的下标，使得两数之和等于给定的目标值，要求同一个下标不能使用两次。\n",
    "数据保证有且仅有一组解。\n",
    "\n",
    "样例\n",
    "给定数组 nums = [2, 7, 11, 15]，以及目标值 target = 9，\n",
    "\n",
    "由于 nums[0] + nums[1] = 2 + 7 = 9,\n",
    "所以 return [0, 1]."
   ]
  },
  {
   "cell_type": "markdown",
   "metadata": {},
   "source": [
    "# 解题思路"
   ]
  },
  {
   "cell_type": "markdown",
   "metadata": {},
   "source": [
    "## 1.暴力匹配\n",
    "\n",
    "两层循环，第1层循环确定第一个数字，第2层循环匹配第二个数字，复杂度：n^2\n",
    "代码就不实现了。"
   ]
  },
  {
   "cell_type": "markdown",
   "metadata": {},
   "source": [
    "## 2.利用数组的快速查找特性\n",
    "\n",
    "查找数组中是否有某个数字，内部是利用hash函数来实现的，复杂度几乎认为是1\n",
    "所以，这种方法就只需要1层循环。\n",
    "循环中，每个index分别对应这层循环所指的数组中的数字v，然后在数组中查找target-v的位置。\n",
    "python中，我们基本都使用列表类型来表示数组，对于列表如果这个值不存在，返回值就是负数，如果存在就返回相应索引。"
   ]
  },
  {
   "cell_type": "code",
   "execution_count": 2,
   "metadata": {},
   "outputs": [
    {
     "name": "stdout",
     "output_type": "stream",
     "text": [
      "2+11=13\n"
     ]
    }
   ],
   "source": [
    "nums = [1,2,7,11,15,19]\n",
    "target = 13\n",
    "\n",
    "for index1,v in enumerate(nums):\n",
    "    if target-v in nums:\n",
    "    #理论上，这里应该在index1之后的子数组里查找，\n",
    "    #但既然题目设定只能是两个数相加才可以，所以这样做也可以\n",
    "        index2 = nums.index(target-v)\n",
    "        break\n",
    "#题目说肯定有解，所以这里也不需要增加是否找到答案的判断了\n",
    "print(\"%d+%d=%d\"%(nums[index1],nums[index2],target))"
   ]
  },
  {
   "cell_type": "code",
   "execution_count": null,
   "metadata": {},
   "outputs": [],
   "source": []
  },
  {
   "cell_type": "code",
   "execution_count": null,
   "metadata": {},
   "outputs": [],
   "source": []
  }
 ],
 "metadata": {
  "kernelspec": {
   "display_name": "Python 3",
   "language": "python",
   "name": "python3"
  },
  "language_info": {
   "codemirror_mode": {
    "name": "ipython",
    "version": 3
   },
   "file_extension": ".py",
   "mimetype": "text/x-python",
   "name": "python",
   "nbconvert_exporter": "python",
   "pygments_lexer": "ipython3",
   "version": "3.7.4"
  }
 },
 "nbformat": 4,
 "nbformat_minor": 2
}
