{
 "cells": [
  {
   "cell_type": "markdown",
   "metadata": {},
   "source": [
    "# 题目2. Add Two Numbers"
   ]
  },
  {
   "cell_type": "raw",
   "metadata": {},
   "source": [
    "给你两个非空链表，分别表示两个非负整数。表示方法：链表中的每个节点，分别表示整数中的一位数字，顺序从低位至高位。例如：2 -> 4 -> 3 表示342. 请计算两个整数的和，并返回成链表的形式。\n",
    "数据保证两个整数均不包含前导0（除了0之外），例如：不会出现0023.\n",
    "\n",
    "样例\n",
    "输入：(2 -> 4 -> 3) + (5 -> 6 -> 4)\n",
    "输出：7 -> 0 -> 8\n",
    "解释：342 + 465 = 807.\n"
   ]
  },
  {
   "cell_type": "markdown",
   "metadata": {},
   "source": [
    "# 解题思路"
   ]
  },
  {
   "cell_type": "markdown",
   "metadata": {},
   "source": [
    "## 就是模拟人工计算加法的方法\n",
    "\n",
    "- 真正的算法实现上，主要还是一些细节需要注意，比如，进位的计算，两个数位数长度的不同等等\n",
    "- 另外，题目要求用ListNode类，我们下面先用list列表类型来做，后面再自定义ListNode类\n",
    "- 第1个方案，还是采用最“朴实”的细节控制，但因为使用了python自由的list结构，所以并不难；\n",
    "- 明白了第1个方案的思路后，第2个方案，改写成使用leetcode要求的ListNode类结构，就需要理解ListNode结构如何使用，也要引入一些“设计”在里面了\n"
   ]
  },
  {
   "cell_type": "code",
   "execution_count": 25,
   "metadata": {},
   "outputs": [],
   "source": [
    "\n",
    "class Solution:\n",
    "    def addTwoNumbers(self, l1, l2):\n",
    "        resultl=[]\n",
    "        leng1 = len(l1)\n",
    "        leng2 = len(l2)\n",
    "        l = max(leng1,leng2)\n",
    "        addition = 0\n",
    "        for i in range(l+1):\n",
    "            num1,num2=0,0\n",
    "            if i < leng1: num1 = l1[i]\n",
    "            if i < leng2: num2 = l2[i]\n",
    "            res = num1 + num2 + addition\n",
    "            if res>9:\n",
    "                addition = 1\n",
    "                res = res-10\n",
    "            else: \n",
    "                addition = 0\n",
    "            #print(\"current index is: %d, res is:%d, addition is: %d\"%(i,res,addition))\n",
    "            resultl.append(res)#assign to resultl\n",
    "        # delete the last possible 0\n",
    "        if resultl[-1]==0: resultl = resultl[:-1]\n",
    "        return resultl        "
   ]
  },
  {
   "cell_type": "code",
   "execution_count": 26,
   "metadata": {},
   "outputs": [
    {
     "name": "stdout",
     "output_type": "stream",
     "text": [
      "[2, 5, 1, 7, 0, 1, 2, 5, 4, 4, 1]\n"
     ]
    }
   ],
   "source": [
    "if __name__ == '__main__':\n",
    "    num1 = [1,2,7,1,5,9,7,8,2,3]\n",
    "    num2 = [1,3,4,5,5,1,4,6,1,1,1]\n",
    "    s = Solution()\n",
    "    num3 = s.addTwoNumbers(num1,num2)\n",
    "    print(num3)"
   ]
  },
  {
   "cell_type": "code",
   "execution_count": 25,
   "metadata": {},
   "outputs": [],
   "source": [
    "# Definition for singly-linked list.\n",
    "# class ListNode:\n",
    "#     def __init__(self, x):\n",
    "#         self.val = x\n",
    "#         self.next = None\n",
    "\n",
    "class ListNode(object):\n",
    "    def __init__(self, x):\n",
    "        self.val = x\n",
    "        self.next = None\n",
    "        \n",
    "    def print(self):\n",
    "        print(self.val)\n",
    "        if self.next: self.next.print()\n",
    "            \n",
    "class Solution:\n",
    "    def addTwoNumbers(self, l1, l2):\n",
    "        addition = 0\n",
    "        # dummy head\n",
    "        head = curr = ListNode(0)\n",
    "        while l1 or l2:\n",
    "            val = addition\n",
    "            if l1:\n",
    "                val += l1.val\n",
    "                l1 = l1.next\n",
    "            if l2:\n",
    "                val += l2.val\n",
    "                l2 = l2.next\n",
    "            \n",
    "            if val>10:\n",
    "                addition = 1\n",
    "                val = val-10\n",
    "            else:\n",
    "                addition = 0   #得到进位\n",
    "\n",
    "            curr.next = ListNode(val)   #得到下一个数的值，形成ListNode结构\n",
    "            curr = curr.next   #把当前“指针”位置进入到下一位\n",
    "\n",
    "        if addition > 0:\n",
    "            curr.next = ListNode(addition)\n",
    "\n",
    "        return head.next #最终返回值，注意，head的作用，其实是记录链表头，注意体会\n",
    "    "
   ]
  },
  {
   "cell_type": "code",
   "execution_count": 26,
   "metadata": {},
   "outputs": [],
   "source": [
    "#理解单向链表的用法很重要\n",
    "#下面给出一个简单的使用方法\n",
    "#用print函数，也可以检验我们的算法是不是正确"
   ]
  },
  {
   "cell_type": "code",
   "execution_count": 28,
   "metadata": {},
   "outputs": [
    {
     "name": "stdout",
     "output_type": "stream",
     "text": [
      "4\n",
      "5\n",
      "6\n",
      "5\n",
      "8\n",
      "9\n"
     ]
    }
   ],
   "source": [
    "n1 = ListNode(1)\n",
    "n2 = ListNode(2)\n",
    "n3 = ListNode(3)\n",
    "n5 = ListNode(5)\n",
    "n6 = ListNode(6)\n",
    "n9 = ListNode(9)\n",
    "\n",
    "#l1 = 135629\n",
    "l1 = n1\n",
    "l1.next = n3\n",
    "n3.next = n5\n",
    "n5.next = n6\n",
    "n6.next = n2\n",
    "n2.next = n9\n",
    "#l1.print()\n",
    "\n",
    "#l2 = 32195\n",
    "m1 = ListNode(1)\n",
    "m2 = ListNode(2)\n",
    "m3 = ListNode(3)\n",
    "m5 = ListNode(5)\n",
    "m9 = ListNode(9)\n",
    "l2 = m3\n",
    "m3.next = m2\n",
    "m2.next = m1\n",
    "m1.next = m9\n",
    "m9.next = m5\n",
    "#l2.print()\n",
    "\n",
    "s = Solution()\n",
    "l3 = s.addTwoNumbers(l1,l2)\n",
    "l3.print()\n"
   ]
  },
  {
   "cell_type": "code",
   "execution_count": null,
   "metadata": {},
   "outputs": [],
   "source": []
  }
 ],
 "metadata": {
  "kernelspec": {
   "display_name": "Python 3",
   "language": "python",
   "name": "python3"
  },
  "language_info": {
   "codemirror_mode": {
    "name": "ipython",
    "version": 3
   },
   "file_extension": ".py",
   "mimetype": "text/x-python",
   "name": "python",
   "nbconvert_exporter": "python",
   "pygments_lexer": "ipython3",
   "version": "3.7.4"
  }
 },
 "nbformat": 4,
 "nbformat_minor": 2
}
