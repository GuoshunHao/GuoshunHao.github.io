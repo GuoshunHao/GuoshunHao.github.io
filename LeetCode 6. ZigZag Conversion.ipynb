{
 "cells": [
  {
   "cell_type": "markdown",
   "metadata": {},
   "source": [
    "# 题目描述"
   ]
  },
  {
   "cell_type": "code",
   "execution_count": null,
   "metadata": {},
   "outputs": [],
   "source": [
    "在行数等于3时，将字符串\"PAYPALISHIRING\"按”N”字形排列，如下所示：\n",
    "\n",
    "P   A   H   N\n",
    "A P L S I I G\n",
    "Y   I   R\n",
    "此时我们按行读取，会得到\"PAHNAPLSIIGYIR\".\n",
    "\n",
    "要求编写一个函数，输入一个字符串和一个整数(表示行数)，输出转换后的字符串：\n",
    "\n",
    "string convert(string text, int nRows);\n",
    "例如 convert(\"PAYPALISHIRING\", 3)会返回\"PAHNAPLSIIGYIR\"."
   ]
  },
  {
   "cell_type": "markdown",
   "metadata": {},
   "source": [
    "# 思路1"
   ]
  },
  {
   "cell_type": "markdown",
   "metadata": {},
   "source": [
    "- 这道题，简单的方法就是找规律\n",
    "\n",
    "从中我们发现，对于行数是 n 的情况：\n",
    "\n",
    "对于第一行和最后一行，是公差为 2(n−1) 的等差数列，首项是 0 和 n−1；\n",
    "对于第 ii 行(0<i<n−1)，是两个公差为 2(n−1) 的等差数列交替排列，首项分别是 i 和 2n−i−2；\n",
    "所以我们可以从上到下，依次打印每行的字符。\n",
    "\n",
    "时间复杂度分析：每个字符遍历一遍，所以时间复杂度是O(n)."
   ]
  },
  {
   "cell_type": "markdown",
   "metadata": {},
   "source": [
    "# 思路2"
   ]
  },
  {
   "cell_type": "markdown",
   "metadata": {},
   "source": [
    "- 另外一个思路，也是leetcode官方的思路，其实和我的思路一致，\n",
    "也是我更喜欢的，这也可以锻炼对python的列表操作"
   ]
  },
  {
   "cell_type": "code",
   "execution_count": 15,
   "metadata": {},
   "outputs": [
    {
     "name": "stdout",
     "output_type": "stream",
     "text": [
      "然个a个后每元该p哪数遍的素应p到组历中计它eds算n\n"
     ]
    }
   ],
   "source": [
    "#声明n个列表，每个列表对应一个行\n",
    "#然后遍历s中的每个元素，计算它应该append到哪个数组\n",
    "#最后，把所有列表连接起来返回就可以了\n",
    "def convert(s, numRows):\n",
    "    if numRows == 1:\n",
    "        return s\n",
    "    # calculate period\n",
    "    p = 2 * (numRows - 1)\n",
    "    result = [\"\"] * numRows #numRows个列表，要理解这个用法\n",
    "    for i in range(len(s)):\n",
    "        floor = i % p\n",
    "        if floor >= p//2:\n",
    "            floor = p - floor\n",
    "        result[floor] += s[i]\n",
    "    return \"\".join(result)\n",
    "\n",
    "s = '然后遍历s中的每个元素计算它应该append到哪个数组'\n",
    "encodeS = convert(s,5)\n",
    "print(encodeS)"
   ]
  },
  {
   "cell_type": "code",
   "execution_count": null,
   "metadata": {},
   "outputs": [],
   "source": [
    "#怎样设计一个Decode的算法呢？\n",
    "#主要就是计算2维矩阵的布置，主要就是l%(2n-1)的余数的位置\n"
   ]
  },
  {
   "cell_type": "code",
   "execution_count": null,
   "metadata": {},
   "outputs": [],
   "source": [
    "def deConvert(s,numRows):\n",
    "    l = len(s)\n",
    "    p = 2*numRows-2\n",
    "    matrix = ['']*numRows\n",
    "    \n",
    "    j = l % p\n",
    "    i = l // p\n",
    "    \n",
    "    if k>n:\n",
    "        l1 = \n",
    "        \n",
    "        \n",
    "        "
   ]
  },
  {
   "cell_type": "code",
   "execution_count": null,
   "metadata": {},
   "outputs": [],
   "source": []
  }
 ],
 "metadata": {
  "kernelspec": {
   "display_name": "Python 3",
   "language": "python",
   "name": "python3"
  },
  "language_info": {
   "codemirror_mode": {
    "name": "ipython",
    "version": 3
   },
   "file_extension": ".py",
   "mimetype": "text/x-python",
   "name": "python",
   "nbconvert_exporter": "python",
   "pygments_lexer": "ipython3",
   "version": "3.7.4"
  }
 },
 "nbformat": 4,
 "nbformat_minor": 2
}
